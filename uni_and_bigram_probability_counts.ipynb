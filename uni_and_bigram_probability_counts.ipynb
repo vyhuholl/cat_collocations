{
  "nbformat": 4,
  "nbformat_minor": 0,
  "metadata": {
    "colab": {
      "name": "uni- and bigram probability counts.ipynb",
      "version": "0.3.2",
      "provenance": [],
      "collapsed_sections": []
    },
    "kernelspec": {
      "name": "python3",
      "display_name": "Python 3"
    },
    "accelerator": "GPU"
  },
  "cells": [
    {
      "cell_type": "code",
      "metadata": {
        "id": "v6q5LkAiQeW5",
        "colab_type": "code",
        "colab": {}
      },
      "source": [
        "from IPython.display import clear_output"
      ],
      "execution_count": 0,
      "outputs": []
    },
    {
      "cell_type": "code",
      "metadata": {
        "id": "EPJ9SDwrQi4t",
        "colab_type": "code",
        "colab": {}
      },
      "source": [
        "!pip install pycodestyle flake8 pycodestyle_magic\n",
        "%load_ext pycodestyle_magic\n",
        "clear_output()"
      ],
      "execution_count": 0,
      "outputs": []
    },
    {
      "cell_type": "code",
      "metadata": {
        "id": "6GevtscHO9mO",
        "colab_type": "code",
        "colab": {}
      },
      "source": [
        "import pandas as pd\n",
        "import numpy as np\n",
        "import pickle"
      ],
      "execution_count": 0,
      "outputs": []
    },
    {
      "cell_type": "code",
      "metadata": {
        "id": "QOTfFNLpSfi4",
        "colab_type": "code",
        "colab": {}
      },
      "source": [
        "!wget https://www.dropbox.com/s/7om3xdy3psg5207/collocation_counts.zip?dl=0 -O collocation_counts.zip\n",
        "!unzip collocation_counts.zip\n",
        "clear_output()"
      ],
      "execution_count": 0,
      "outputs": []
    },
    {
      "cell_type": "code",
      "metadata": {
        "id": "a-NKICvQGBvL",
        "colab_type": "code",
        "colab": {}
      },
      "source": [
        "domains = ['linguistics', 'sociology', 'history',\n",
        "           'politology', 'law', 'psychology', 'economics']\n",
        "\n",
        "unigram_probs = dict()\n",
        "bigram_probs = dict()"
      ],
      "execution_count": 0,
      "outputs": []
    },
    {
      "cell_type": "code",
      "metadata": {
        "id": "qVRAZj4VG_H2",
        "colab_type": "code",
        "colab": {}
      },
      "source": [
        "for domain in domains:\n",
        "    unigrams = pd.read_excel(f\"{domain}_collocation_counts.xlsx\",\n",
        "                             sheet_name='unigrams')\n",
        "    unigrams = unigrams.query(\"tag == 'S' | tag == 'V'\")\n",
        "    unigrams = unigrams.reset_index(drop=True)\n",
        "    unigram_probs[domain] = {unigrams['ngram'][i]: unigrams['raw frequency'][i]\n",
        "                             for i in range(len(unigrams.index))}"
      ],
      "execution_count": 0,
      "outputs": []
    },
    {
      "cell_type": "code",
      "metadata": {
        "id": "Ji-kpWC0L3_w",
        "colab_type": "code",
        "colab": {}
      },
      "source": [
        "for domain in domains:\n",
        "    bigrams = pd.read_excel(f\"{domain}_collocation_counts.xlsx\",\n",
        "                            sheet_name='bigrams')\n",
        "    if domain == 'history':\n",
        "        bigrams.columns = [\"index\", \"frequency\", \"likelihood ratio\", \"ngram\",\n",
        "                           \"pmi\", \"raw frequency\", \"t score\", \"tag\"]\n",
        "    bigrams = bigrams.query(\n",
        "        \"tag == 'S S' | tag == 'S V' | tag == 'V S' | tag == 'V V'\")\n",
        "    bigrams = bigrams.reset_index(drop=True)\n",
        "    bigram_probs[domain] = {bigrams['ngram'][i]: bigrams['raw frequency'][i]\n",
        "                            for i in range(len(bigrams.index))}"
      ],
      "execution_count": 0,
      "outputs": []
    },
    {
      "cell_type": "code",
      "metadata": {
        "id": "CQ8QuHweWMnb",
        "colab_type": "code",
        "colab": {}
      },
      "source": [
        "# объединяем несколько частотных словарей в один\n",
        "# если какое-то слово или биграмма встречается больше\n",
        "# чем в одном словаре, то усредняем значения\n",
        "unigram = dict()\n",
        "bigram = dict()\n",
        "\n",
        "unigram_keys = set()\n",
        "bigram_keys = set()\n",
        "for domain in domains:\n",
        "    unigram_keys.update(unigram_probs[domain].keys())\n",
        "    bigram_keys.update(bigram_probs[domain].keys())\n",
        "unigram_keys = list(unigram_keys)\n",
        "bigram_keys = list(bigram_keys)"
      ],
      "execution_count": 0,
      "outputs": []
    },
    {
      "cell_type": "code",
      "metadata": {
        "id": "JwvSLzk1YoN6",
        "colab_type": "code",
        "colab": {}
      },
      "source": [
        "for key in unigram_keys:\n",
        "    freqs = []\n",
        "    for domain in domains:\n",
        "        if key in unigram_probs[domain]:\n",
        "            freqs.append(unigram_probs[domain][key])\n",
        "    unigram[key] = np.mean(freqs)"
      ],
      "execution_count": 0,
      "outputs": []
    },
    {
      "cell_type": "code",
      "metadata": {
        "id": "8_DByXT0ZjGg",
        "colab_type": "code",
        "colab": {}
      },
      "source": [
        "for key in bigram_keys:\n",
        "    freqs = []\n",
        "    for domain in domains:\n",
        "        if key in bigram_probs[domain]:\n",
        "            freqs.append(bigram_probs[domain][key])\n",
        "    bigram[key] = np.mean(freqs)"
      ],
      "execution_count": 0,
      "outputs": []
    },
    {
      "cell_type": "code",
      "metadata": {
        "id": "lbiR2bnxZsay",
        "colab_type": "code",
        "colab": {}
      },
      "source": [
        "with open(\"unigrams.pkl\", \"wb\") as file:\n",
        "    pickle.dump(unigram, file)\n",
        "with open(\"bigrams.pkl\", \"wb\") as file:\n",
        "    pickle.dump(bigram, file)"
      ],
      "execution_count": 0,
      "outputs": []
    },
    {
      "cell_type": "code",
      "metadata": {
        "id": "4PypRi4gaCtZ",
        "colab_type": "code",
        "colab": {}
      },
      "source": [
        "from google.colab import files\n",
        "files.download(\"unigrams.pkl\")\n",
        "files.download(\"bigrams.pkl\") "
      ],
      "execution_count": 0,
      "outputs": []
    },
    {
      "cell_type": "code",
      "metadata": {
        "id": "rBz-T0l_VpjB",
        "colab_type": "code",
        "colab": {}
      },
      "source": [
        ""
      ],
      "execution_count": 0,
      "outputs": []
    }
  ]
}